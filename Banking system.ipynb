{
 "cells": [
  {
   "cell_type": "code",
   "execution_count": 1,
   "id": "20995c50-ae03-449d-b9f8-f0d0de0ea150",
   "metadata": {},
   "outputs": [
    {
     "name": "stdout",
     "output_type": "stream",
     "text": [
      "Press 1 to deposit\n",
      "Press 2 to withdraw\n",
      "Press 3 to check balance\n",
      "Press 4 to exit\n"
     ]
    },
    {
     "name": "stdin",
     "output_type": "stream",
     "text": [
      "Enter your choice:  3\n"
     ]
    },
    {
     "name": "stdout",
     "output_type": "stream",
     "text": [
      "Press 1 for customer 1:\n",
      "Press 2 for customer 2:\n",
      "Press 3 for customer 3:\n"
     ]
    },
    {
     "name": "stdin",
     "output_type": "stream",
     "text": [
      "Enter your choice: 1\n"
     ]
    },
    {
     "name": "stdout",
     "output_type": "stream",
     "text": [
      "Account No.= 101\n",
      "Balance= 10000\n",
      "Press 1 to deposit\n",
      "Press 2 to withdraw\n",
      "Press 3 to check balance\n",
      "Press 4 to exit\n"
     ]
    },
    {
     "name": "stdin",
     "output_type": "stream",
     "text": [
      "Enter your choice:  4\n"
     ]
    }
   ],
   "source": [
    "class Bank:\n",
    "    def openaccount(self,x,y):\n",
    "        self.accNo=x\n",
    "        self.balance=y\n",
    "    def deposit(self,amount):\n",
    "        self.balance = self.balance+amount\n",
    "    def withdraw(self,amount):\n",
    "        if(amount>=self.balance):\n",
    "            print(\"Insufficient Balance\")\n",
    "        else:\n",
    "            self.balance= self.balance-amount\n",
    "    def checkbalance(self):\n",
    "        print(\"Account No.=\",self.accNo)\n",
    "        print(\"Balance=\",self.balance)\n",
    "customer1 = Bank()\n",
    "customer2 = Bank()\n",
    "customer3 = Bank()\n",
    "\n",
    "customer1.openaccount(101,10000)\n",
    "customer2.openaccount(102,20000)\n",
    "customer3.openaccount(103,30000)\n",
    "\n",
    "choice=1\n",
    "while(choice!=4):\n",
    "    print(\"Press 1 to deposit\")\n",
    "    print(\"Press 2 to withdraw\")\n",
    "    print(\"Press 3 to check balance\")\n",
    "    print(\"Press 4 to exit\")\n",
    "    choice = int(input(\"Enter your choice: \"))\n",
    "    if(choice==1):\n",
    "        print(\"Press 1 for customer 1:\")\n",
    "        print(\"Press 2 for customer 2:\")\n",
    "        print(\"Press 3 for customer 3:\")\n",
    "        choice1 = int(input(\"Enter your choice:\"))\n",
    "        amount = int(input(\"Enter your amount to deposit:\"))\n",
    "        if(choice1==1):\n",
    "            customer1.deposit(amount)\n",
    "        if(choice1==2):\n",
    "            customer2.deposit(amount)\n",
    "        if(choice1==3):\n",
    "            customer3.deposit(amount)\n",
    "    if(choice==2):\n",
    "        print(\"Press 1 for customer 1:\")  \n",
    "        print(\"Press 2 for customer 2:\")\n",
    "        print(\"Press 3 for customer 3:\")\n",
    "        choice1 = int(input(\"Enter your choice:\"))\n",
    "        amount = int(input(\"Enter amount to withdraw: \"))\n",
    "        if(choice1==1):\n",
    "            customer1.withdraw(amount)\n",
    "        if(choice1==2):\n",
    "            customer2.withdraw(amount)\n",
    "        if(choice1==3):\n",
    "            customer3.withdraw(amount)\n",
    "    if(choice==3):\n",
    "        print(\"Press 1 for customer 1:\")\n",
    "        print(\"Press 2 for customer 2:\")\n",
    "        print(\"Press 3 for customer 3:\")\n",
    "        choice1 = int(input(\"Enter your choice:\"))\n",
    "        if(choice1==1):\n",
    "            customer1.checkbalance()\n",
    "        if(choice1==2):\n",
    "            customer2.checkbalance()\n",
    "        if(choice1==3):\n",
    "            customer3.checkbalance()"
   ]
  },
  {
   "cell_type": "code",
   "execution_count": null,
   "id": "bbc125dc-394d-443d-8d52-11c1e59bf255",
   "metadata": {},
   "outputs": [],
   "source": []
  }
 ],
 "metadata": {
  "kernelspec": {
   "display_name": "Python [conda env:base] *",
   "language": "python",
   "name": "conda-base-py"
  },
  "language_info": {
   "codemirror_mode": {
    "name": "ipython",
    "version": 3
   },
   "file_extension": ".py",
   "mimetype": "text/x-python",
   "name": "python",
   "nbconvert_exporter": "python",
   "pygments_lexer": "ipython3",
   "version": "3.12.7"
  }
 },
 "nbformat": 4,
 "nbformat_minor": 5
}
